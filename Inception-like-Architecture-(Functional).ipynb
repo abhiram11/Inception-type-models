{
 "cells": [
  {
   "cell_type": "code",
   "execution_count": 1,
   "metadata": {},
   "outputs": [
    {
     "name": "stderr",
     "output_type": "stream",
     "text": [
      "Using TensorFlow backend.\n"
     ]
    }
   ],
   "source": [
    "from keras.models import Model\n",
    "from keras.layers import Dense,Activation,Conv1D,MaxPooling1D,Flatten,Input\n",
    "import numpy as np\n",
    "from keras.optimizers import SGD\n",
    "from keras.utils import plot_model\n",
    "from keras.layers import Conv2D, MaxPooling2D\n",
    "import keras\n",
    "import pydot\n",
    "import pydotplus\n",
    "from keras.utils.vis_utils import model_to_dot\n",
    "keras.utils.vis_utils.pydot = pydot\n",
    "\n"
   ]
  },
  {
   "cell_type": "markdown",
   "metadata": {},
   "source": [
    "This is for 1D input data, it can be upgraded to 2D data as required"
   ]
  },
  {
   "cell_type": "code",
   "execution_count": 2,
   "metadata": {},
   "outputs": [],
   "source": [
    "# input_img = Input(shape = (X.shape[1], X.shape[2], Dims))\n",
    "input_img = Input(shape= (128, 1))"
   ]
  },
  {
   "cell_type": "code",
   "execution_count": 3,
   "metadata": {},
   "outputs": [
    {
     "name": "stdout",
     "output_type": "stream",
     "text": [
      "WARNING:tensorflow:From /anaconda3/lib/python3.7/site-packages/tensorflow/python/framework/op_def_library.py:263: colocate_with (from tensorflow.python.framework.ops) is deprecated and will be removed in a future version.\n",
      "Instructions for updating:\n",
      "Colocations handled automatically by placer.\n"
     ]
    }
   ],
   "source": [
    "#First distribution\n",
    "tower_1 = Conv1D(1, 1,padding='same', activation='relu')(input_img)\n",
    "tower_1 = Conv1D(8, 4,padding='same', activation='relu')(tower_1)\n",
    "tower_1 = Conv1D(16, 4,padding='same', activation='relu')(tower_1)\n",
    "tower_1 = Conv1D(32, 4,padding='same', activation='relu')(tower_1)\n",
    "\n",
    "\n",
    "tower_2 = Conv1D(1, 1, padding='same', activation='relu')(input_img)\n",
    "tower_2 = Conv1D(16, 8,padding='same', activation='relu')(tower_2)\n",
    "tower_2 = Conv1D(32, 8,padding='same', activation='relu')(tower_2)\n",
    "\n",
    "tower_3 = Conv1D(1, 1, padding='same', activation='relu')(input_img)\n",
    "tower_3 = Conv1D(32, 16, padding='same', activation='relu')(tower_3)\n",
    "\n",
    "tower_4 = MaxPooling1D(4, strides=1, padding='same')(input_img)\n",
    "tower_4 = Conv1D(32, 32, padding='same', activation='relu')(tower_4)\n",
    "\n",
    "tower_5 = Conv1D(1, 1, padding='same', activation='relu')(input_img)\n"
   ]
  },
  {
   "cell_type": "code",
   "execution_count": 4,
   "metadata": {},
   "outputs": [],
   "source": [
    "output_1 = keras.layers.concatenate([tower_1, tower_2, tower_3, tower_4, tower_5], axis = 2)"
   ]
  },
  {
   "cell_type": "code",
   "execution_count": 5,
   "metadata": {},
   "outputs": [],
   "source": [
    "#Second distribution\n",
    "tower_1 = Conv1D(1, 1,padding='same', activation='relu')(output_1)\n",
    "tower_1 = Conv1D(8, 4,padding='same', activation='relu')(tower_1)\n",
    "tower_1 = Conv1D(16, 4,padding='same', activation='relu')(tower_1)\n",
    "tower_1 = Conv1D(32, 4,padding='same', activation='relu')(tower_1)\n",
    "\n",
    "\n",
    "tower_2 = Conv1D(1, 1, padding='same', activation='relu')(output_1)\n",
    "tower_2 = Conv1D(16, 8,padding='same', activation='relu')(tower_2)\n",
    "tower_2 = Conv1D(32, 8,padding='same', activation='relu')(tower_2)\n",
    "\n",
    "tower_3 = Conv1D(1, 1, padding='same', activation='relu')(output_1)\n",
    "tower_3 = Conv1D(32, 16, padding='same', activation='relu')(tower_3)\n"
   ]
  },
  {
   "cell_type": "markdown",
   "metadata": {},
   "source": [
    "To connect a layer from previous distribution directly in this output layer, give it a different name and concatenate it down below. e.g. add tower_4 below and plot the graph for a better understanding."
   ]
  },
  {
   "cell_type": "code",
   "execution_count": 6,
   "metadata": {},
   "outputs": [],
   "source": [
    "output_2 = keras.layers.concatenate([tower_1, tower_2, tower_3], axis = 2)"
   ]
  },
  {
   "cell_type": "code",
   "execution_count": 7,
   "metadata": {},
   "outputs": [],
   "source": [
    "#Third Distribution\n",
    "tower_1 = Conv1D(1, 1,padding='same', activation='relu')(output_2)\n",
    "tower_1 = Conv1D(8, 3,padding='same', activation='relu')(tower_1)\n",
    "tower_1 = Conv1D(16, 5,padding='same', activation='relu')(tower_1)\n",
    "tower_1 = Conv1D(32, 5,padding='same', activation='relu')(tower_1)\n",
    "\n",
    "\n",
    "tower_2 = Conv1D(1, 1, padding='same', activation='relu')(output_2)\n",
    "tower_2 = Conv1D(16, 4,padding='same', activation='relu')(tower_2)\n",
    "tower_2 = Conv1D(32, 4,padding='same', activation='relu')(tower_2)\n",
    "\n",
    "tower_3 = Conv1D(1, 1, padding='same', activation='relu')(output_2)\n",
    "tower_3 = Conv1D(64, 8, padding='same', activation='relu')(tower_3)\n",
    "\n",
    "tower_4 = MaxPooling1D(4, strides=1, padding='same')(output_2)\n",
    "tower_4 = Conv1D(16, 30, padding='same', activation='relu')(tower_4)\n",
    "\n",
    "\n",
    "output = keras.layers.concatenate([tower_1, tower_2, tower_3, tower_4], axis = 2)\n"
   ]
  },
  {
   "cell_type": "code",
   "execution_count": 8,
   "metadata": {},
   "outputs": [],
   "source": [
    "output = Flatten()(output)\n",
    "out    = Dense(6, activation='softmax')(output)"
   ]
  },
  {
   "cell_type": "code",
   "execution_count": 9,
   "metadata": {},
   "outputs": [
    {
     "name": "stdout",
     "output_type": "stream",
     "text": [
      "__________________________________________________________________________________________________\n",
      "Layer (type)                    Output Shape         Param #     Connected to                     \n",
      "==================================================================================================\n",
      "input_1 (InputLayer)            (None, 128, 1)       0                                            \n",
      "__________________________________________________________________________________________________\n",
      "conv1d_1 (Conv1D)               (None, 128, 1)       2           input_1[0][0]                    \n",
      "__________________________________________________________________________________________________\n",
      "conv1d_2 (Conv1D)               (None, 128, 8)       40          conv1d_1[0][0]                   \n",
      "__________________________________________________________________________________________________\n",
      "conv1d_5 (Conv1D)               (None, 128, 1)       2           input_1[0][0]                    \n",
      "__________________________________________________________________________________________________\n",
      "conv1d_3 (Conv1D)               (None, 128, 16)      528         conv1d_2[0][0]                   \n",
      "__________________________________________________________________________________________________\n",
      "conv1d_6 (Conv1D)               (None, 128, 16)      144         conv1d_5[0][0]                   \n",
      "__________________________________________________________________________________________________\n",
      "conv1d_8 (Conv1D)               (None, 128, 1)       2           input_1[0][0]                    \n",
      "__________________________________________________________________________________________________\n",
      "max_pooling1d_1 (MaxPooling1D)  (None, 128, 1)       0           input_1[0][0]                    \n",
      "__________________________________________________________________________________________________\n",
      "conv1d_4 (Conv1D)               (None, 128, 32)      2080        conv1d_3[0][0]                   \n",
      "__________________________________________________________________________________________________\n",
      "conv1d_7 (Conv1D)               (None, 128, 32)      4128        conv1d_6[0][0]                   \n",
      "__________________________________________________________________________________________________\n",
      "conv1d_9 (Conv1D)               (None, 128, 32)      544         conv1d_8[0][0]                   \n",
      "__________________________________________________________________________________________________\n",
      "conv1d_10 (Conv1D)              (None, 128, 32)      1056        max_pooling1d_1[0][0]            \n",
      "__________________________________________________________________________________________________\n",
      "conv1d_11 (Conv1D)              (None, 128, 1)       2           input_1[0][0]                    \n",
      "__________________________________________________________________________________________________\n",
      "concatenate_1 (Concatenate)     (None, 128, 129)     0           conv1d_4[0][0]                   \n",
      "                                                                 conv1d_7[0][0]                   \n",
      "                                                                 conv1d_9[0][0]                   \n",
      "                                                                 conv1d_10[0][0]                  \n",
      "                                                                 conv1d_11[0][0]                  \n",
      "__________________________________________________________________________________________________\n",
      "conv1d_12 (Conv1D)              (None, 128, 1)       130         concatenate_1[0][0]              \n",
      "__________________________________________________________________________________________________\n",
      "conv1d_13 (Conv1D)              (None, 128, 8)       40          conv1d_12[0][0]                  \n",
      "__________________________________________________________________________________________________\n",
      "conv1d_16 (Conv1D)              (None, 128, 1)       130         concatenate_1[0][0]              \n",
      "__________________________________________________________________________________________________\n",
      "conv1d_14 (Conv1D)              (None, 128, 16)      528         conv1d_13[0][0]                  \n",
      "__________________________________________________________________________________________________\n",
      "conv1d_17 (Conv1D)              (None, 128, 16)      144         conv1d_16[0][0]                  \n",
      "__________________________________________________________________________________________________\n",
      "conv1d_19 (Conv1D)              (None, 128, 1)       130         concatenate_1[0][0]              \n",
      "__________________________________________________________________________________________________\n",
      "conv1d_15 (Conv1D)              (None, 128, 32)      2080        conv1d_14[0][0]                  \n",
      "__________________________________________________________________________________________________\n",
      "conv1d_18 (Conv1D)              (None, 128, 32)      4128        conv1d_17[0][0]                  \n",
      "__________________________________________________________________________________________________\n",
      "conv1d_20 (Conv1D)              (None, 128, 32)      544         conv1d_19[0][0]                  \n",
      "__________________________________________________________________________________________________\n",
      "concatenate_2 (Concatenate)     (None, 128, 96)      0           conv1d_15[0][0]                  \n",
      "                                                                 conv1d_18[0][0]                  \n",
      "                                                                 conv1d_20[0][0]                  \n",
      "__________________________________________________________________________________________________\n",
      "conv1d_21 (Conv1D)              (None, 128, 1)       97          concatenate_2[0][0]              \n",
      "__________________________________________________________________________________________________\n",
      "conv1d_22 (Conv1D)              (None, 128, 8)       32          conv1d_21[0][0]                  \n",
      "__________________________________________________________________________________________________\n",
      "conv1d_25 (Conv1D)              (None, 128, 1)       97          concatenate_2[0][0]              \n",
      "__________________________________________________________________________________________________\n",
      "conv1d_23 (Conv1D)              (None, 128, 16)      656         conv1d_22[0][0]                  \n",
      "__________________________________________________________________________________________________\n",
      "conv1d_26 (Conv1D)              (None, 128, 16)      80          conv1d_25[0][0]                  \n",
      "__________________________________________________________________________________________________\n",
      "conv1d_28 (Conv1D)              (None, 128, 1)       97          concatenate_2[0][0]              \n",
      "__________________________________________________________________________________________________\n",
      "max_pooling1d_2 (MaxPooling1D)  (None, 128, 96)      0           concatenate_2[0][0]              \n",
      "__________________________________________________________________________________________________\n",
      "conv1d_24 (Conv1D)              (None, 128, 32)      2592        conv1d_23[0][0]                  \n",
      "__________________________________________________________________________________________________\n",
      "conv1d_27 (Conv1D)              (None, 128, 32)      2080        conv1d_26[0][0]                  \n",
      "__________________________________________________________________________________________________\n",
      "conv1d_29 (Conv1D)              (None, 128, 64)      576         conv1d_28[0][0]                  \n",
      "__________________________________________________________________________________________________\n",
      "conv1d_30 (Conv1D)              (None, 128, 16)      46096       max_pooling1d_2[0][0]            \n",
      "__________________________________________________________________________________________________\n",
      "concatenate_3 (Concatenate)     (None, 128, 144)     0           conv1d_24[0][0]                  \n",
      "                                                                 conv1d_27[0][0]                  \n",
      "                                                                 conv1d_29[0][0]                  \n",
      "                                                                 conv1d_30[0][0]                  \n",
      "__________________________________________________________________________________________________\n",
      "flatten_1 (Flatten)             (None, 18432)        0           concatenate_3[0][0]              \n",
      "__________________________________________________________________________________________________\n",
      "dense_1 (Dense)                 (None, 6)            110598      flatten_1[0][0]                  \n",
      "==================================================================================================\n",
      "Total params: 179,383\n",
      "Trainable params: 179,383\n",
      "Non-trainable params: 0\n",
      "__________________________________________________________________________________________________\n",
      "None\n"
     ]
    }
   ],
   "source": [
    "model = Model(inputs = input_img, outputs = out)\n",
    "print(model.summary())\n",
    "\n",
    "plot_model(model, to_file='model_simple.png')\n"
   ]
  },
  {
   "cell_type": "markdown",
   "metadata": {},
   "source": [
    "Trying the model after defining input data, output, and other factors other than the architecture"
   ]
  },
  {
   "cell_type": "code",
   "execution_count": 10,
   "metadata": {},
   "outputs": [],
   "source": [
    "# model.compile(loss='categorical_crossentropy', optimizer='adam', metrics=['accuracy'])\n",
    "# model.fit(X_train, y_train, validation_data=(X_test, y_test), epochs=20, batch_size=32)"
   ]
  }
 ],
 "metadata": {
  "kernelspec": {
   "display_name": "Python 3",
   "language": "python",
   "name": "python3"
  },
  "language_info": {
   "codemirror_mode": {
    "name": "ipython",
    "version": 3
   },
   "file_extension": ".py",
   "mimetype": "text/x-python",
   "name": "python",
   "nbconvert_exporter": "python",
   "pygments_lexer": "ipython3",
   "version": "3.7.3"
  }
 },
 "nbformat": 4,
 "nbformat_minor": 2
}
